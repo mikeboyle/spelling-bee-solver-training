{
 "cells": [
  {
   "cell_type": "markdown",
   "metadata": {
    "application/vnd.databricks.v1+cell": {
     "cellMetadata": {},
     "inputWidgets": {},
     "nuid": "1bfa4373-6d5a-4e26-8333-2b361726e8eb",
     "showTitle": false,
     "tableResultSettingsMap": {},
     "title": ""
    }
   },
   "source": [
    "# 00_Mount Storage\n",
    "\n",
    "Mounts the workspace to the storage account if it isn't already."
   ]
  },
  {
   "cell_type": "code",
   "execution_count": 0,
   "metadata": {
    "application/vnd.databricks.v1+cell": {
     "cellMetadata": {
      "byteLimit": 2048000,
      "rowLimit": 10000
     },
     "inputWidgets": {},
     "nuid": "7590d294-94ad-47fa-a666-6cd8a67cadd2",
     "showTitle": false,
     "tableResultSettingsMap": {},
     "title": ""
    }
   },
   "outputs": [],
   "source": [
    "STORAGE_ACCOUNT_NAME = dbutils.secrets.get(scope=\"spelling-bee-scope\", key=\"storage-account-name\")\n",
    "STORAGE_ACCOUNT_KEY = dbutils.secrets.get(scope=\"spelling-bee-scope\", key=\"storage-account-key\")\n",
    "BLOB_CONTAINER = \"spelling-bee\"\n",
    "MOUNT_POINT = \"/mnt/spelling-bee\""
   ]
  },
  {
   "cell_type": "code",
   "execution_count": 0,
   "metadata": {
    "application/vnd.databricks.v1+cell": {
     "cellMetadata": {
      "byteLimit": 2048000,
      "rowLimit": 10000
     },
     "inputWidgets": {},
     "nuid": "758a2794-ea11-4ed8-8fe1-ed7c60fcb62f",
     "showTitle": false,
     "tableResultSettingsMap": {},
     "title": ""
    }
   },
   "outputs": [],
   "source": [
    "configs = {\n",
    "    f\"fs.azure.account.key.{STORAGE_ACCOUNT_NAME}.blob.core.windows.net\": STORAGE_ACCOUNT_KEY\n",
    "}"
   ]
  },
  {
   "cell_type": "code",
   "execution_count": 0,
   "metadata": {
    "application/vnd.databricks.v1+cell": {
     "cellMetadata": {
      "byteLimit": 2048000,
      "rowLimit": 10000
     },
     "inputWidgets": {},
     "nuid": "1aee0576-d52e-4c77-90e8-004034219048",
     "showTitle": false,
     "tableResultSettingsMap": {},
     "title": ""
    }
   },
   "outputs": [],
   "source": [
    "mounts = dbutils.fs.mounts()\n",
    "if not any(m.mountPoint == MOUNT_POINT for m in mounts):\n",
    "    dbutils.fs.mount(\n",
    "        source = f\"wasbs://{BLOB_CONTAINER}@{STORAGE_ACCOUNT_NAME}.blob.core.windows.net/\",\n",
    "        mount_point = MOUNT_POINT,\n",
    "        extra_configs = configs\n",
    "    )\n",
    "    print(\"Mount successful\")\n",
    "else:\n",
    "    print(f\"Mount point {MOUNT_POINT} already exists\")"
   ]
  }
 ],
 "metadata": {
  "application/vnd.databricks.v1+notebook": {
   "computePreferences": null,
   "dashboards": [],
   "environmentMetadata": {
    "base_environment": "",
    "environment_version": "2"
   },
   "inputWidgetPreferences": null,
   "language": "python",
   "notebookMetadata": {
    "pythonIndentUnit": 4
   },
   "notebookName": "00_mount_storage",
   "widgets": {}
  },
  "language_info": {
   "name": "python"
  }
 },
 "nbformat": 4,
 "nbformat_minor": 0
}
