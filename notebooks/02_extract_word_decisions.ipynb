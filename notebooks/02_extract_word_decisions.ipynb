{
 "cells": [
  {
   "cell_type": "markdown",
   "id": "e5b16803-03af-4363-b95b-9b29f2c8d48a",
   "metadata": {},
   "source": [
    "# 02_extract_word_decisions\n",
    "\n",
    "- read in the files from a given date range\n",
    "- for each file:\n",
    "    - find all possible words \n",
    "    - extract the explicit and implict decisions about each word\n",
    "    - write to the bronze table\n",
    "\n",
    "TODOs:\n",
    "- one pipeline to backfill, another for daily ingestion\n",
    "- backfill runs for a year, one month at a time, with verification and audit steps\n",
    "- backfill gets the paths for a given month (`glob` locally, `dbutils.fs.ls()` in cloud), then reads in each puzzle one at a time, writing to in-memory rows, then writes to a dataframe, then uses `uses replaceWhere` with Delta\n",
    "- daily can use the delete + write pattern (or will `replaceWhere` work for this as well??)\n",
    "- helper methods: `get_puzzle_by_date`, `ingest_puzzle_by_date` (for daily), `get_puzzle_paths`, `get_puzzle_by_path`, `ingest_puzzle_by_path` (for backfill) "
   ]
  },
  {
   "cell_type": "code",
   "execution_count": null,
   "id": "162832ff-4821-46a3-9ed8-f249f4b97a38",
   "metadata": {},
   "outputs": [],
   "source": [
    "%run \"./00_setup.ipynb\""
   ]
  },
  {
   "cell_type": "code",
   "execution_count": null,
   "id": "25f8271f-04ef-4cfb-96fd-2141173b8490",
   "metadata": {},
   "outputs": [],
   "source": [
    "from datetime import datetime, timedelta\n",
    "import os\n",
    "from glob import glob\n",
    "from pathlib import Path"
   ]
  },
  {
   "cell_type": "code",
   "execution_count": null,
   "id": "1a7a8663-694a-415f-9d01-1d91d41303ba",
   "metadata": {},
   "outputs": [],
   "source": [
    "from src.constants import WORDLIST_FILENAME, DATE_FORMAT\n",
    "from src.fileutils import word_file_to_set, get_local_path\n",
    "from src.wordutils import get_letter_set_map, ingest_puzzle_by_date"
   ]
  },
  {
   "cell_type": "code",
   "execution_count": null,
   "id": "d211f26e-3b4b-486f-9c49-bd8b9e679441",
   "metadata": {},
   "outputs": [],
   "source": [
    "# TODO: Parameterize YEAR in notebook, then run this per month\n",
    "# TODO: Write helper function to find all puzzle dates for a given year/month\n",
    "# TODO: need local version of this\n",
    "def get_all_json_files(path):\n",
    "    files = []\n",
    "    for item in dbutils.fs.ls(path):\n",
    "        if item.isDir():\n",
    "            files.extend(get_all_json_files(item.path))\n",
    "        elif item.path.endswith('.json'):\n",
    "            files.append(item.path)\n",
    "    return files\n",
    "# Local version - use glob\n",
    "\n",
    "YEAR = 2024\n",
    "\n",
    "start_date = datetime(2024, 1, 1)\n",
    "end_date = datetime(2025, 1, 1)\n",
    "curr_date = start_date\n",
    "\n",
    "puzzle_dates = []\n",
    "missing = [datetime(2024, 7, 30), datetime(2024, 12, 16)]\n",
    "while curr_date < end_date:\n",
    "    if curr_date not in missing:\n",
    "        puzzle_dates.append(curr_date.strftime(\"%Y-%m-%d\"))\n",
    "    curr_date += timedelta(days=1)\n",
    "\n",
    "print(puzzle_dates)"
   ]
  },
  {
   "cell_type": "code",
   "execution_count": null,
   "id": "56868d80-b045-4a9f-87bd-c530825b8725",
   "metadata": {},
   "outputs": [],
   "source": [
    "wordlist = word_file_to_set(f\"raw/wordlists/{WORDLIST_FILENAME}\")\n",
    "letter_set_map = get_letter_set_map(wordlist)"
   ]
  },
  {
   "cell_type": "code",
   "execution_count": null,
   "id": "e19f451d-baf9-4ba1-9e72-adb59c11e42c",
   "metadata": {},
   "outputs": [],
   "source": [
    "rows = []\n",
    "for puzzle_date in puzzle_dates:\n",
    "    print(f\"ingesting puzzle for {puzzle_date}...\")\n",
    "    curr_rows = ingest_puzzle(puzzle_date, wordlist, letter_set_map)\n",
    "    print(f\"{len(curr_rows)} rows created for {puzzle_date}\")\n",
    "    rows.extend(curr_rows)\n",
    "\n",
    "print(f\"{len(rows)} total rows\")\n",
    "    "
   ]
  },
  {
   "cell_type": "code",
   "execution_count": null,
   "id": "24e158a2-42aa-4ac3-ab81-91a71f61ad2f",
   "metadata": {},
   "outputs": [],
   "source": [
    "# TODO: Delete this cell (local only)\n",
    "# TODO: Create local functions for starting Spark Session (including with db)\n",
    "from pyspark.sql import SparkSession\n",
    "from pyspark.sql.types import * \n",
    "import pyspark.sql.functions as F\n",
    "spark = SparkSession.builder.getOrCreate()"
   ]
  },
  {
   "cell_type": "code",
   "execution_count": null,
   "id": "54311e2c-7742-45fb-a3f0-36624f87d1b1",
   "metadata": {},
   "outputs": [],
   "source": [
    "schema = StructType([\n",
    "    StructField(\"word\", StringType(), False),\n",
    "    StructField(\"accepted\", BooleanType(), False),\n",
    "    StructField(\"was_in_wordlist\", BooleanType(), False),\n",
    "    StructField(\"puzzle_date\", DateType(), False),\n",
    "    StructField(\"center_letter\", StringType(), False),\n",
    "    StructField(\"outer_letters\", StringType(), False),\n",
    "])\n",
    "df = spark.createDataFrame(rows, schema=schema)"
   ]
  },
  {
   "cell_type": "code",
   "execution_count": null,
   "id": "282aa46f-f534-47dd-b213-54429ec0f93b",
   "metadata": {},
   "outputs": [],
   "source": [
    "# Add derived year/month/day columns for partitioning\n",
    "df = df.withColumn(\"year\", F.year(\"puzzle_date\")) \\\n",
    "       .withColumn(\"month\", F.month(\"puzzle_date\")) \\\n",
    "       .withColumn(\"day\", F.dayofmonth(\"puzzle_date\"))"
   ]
  },
  {
   "cell_type": "code",
   "execution_count": null,
   "id": "a7e9134a-fad6-4dc9-bb1e-edf0eb036c03",
   "metadata": {},
   "outputs": [],
   "source": [
    "df.printSchema()"
   ]
  },
  {
   "cell_type": "code",
   "execution_count": null,
   "id": "529cf24a-8e25-4519-869c-352629b53188",
   "metadata": {},
   "outputs": [],
   "source": [
    "df.filter(df.was_in_wordlist == False).select(\"word\").distinct().sort(\"word\").show(100, False)"
   ]
  },
  {
   "cell_type": "code",
   "execution_count": null,
   "id": "e0172d27-e667-4a3d-a60c-6c59dc20eebe",
   "metadata": {},
   "outputs": [],
   "source": [
    "# TODO: Backfill script validates as it goes, uses replaceWhere with delta runs for a given year only, one chunk at a time\n",
    "# TODO: Daily ingest script that writes one file for a specific day/month/year\n",
    "# TODO: Repurpose helper methods to write to table, create db if it doesn't exist ... again with local and dbx code paths??\n",
    "# TODO: Try to do all writes at once or find a batch size\n",
    "# TODO: Need a way to redo the run, 1 write per puzzle date? Is that efficient??"
   ]
  }
 ],
 "metadata": {
  "kernelspec": {
   "display_name": "Python 3 (ipykernel)",
   "language": "python",
   "name": "python3"
  },
  "language_info": {
   "codemirror_mode": {
    "name": "ipython",
    "version": 3
   },
   "file_extension": ".py",
   "mimetype": "text/x-python",
   "name": "python",
   "nbconvert_exporter": "python",
   "pygments_lexer": "ipython3",
   "version": "3.11.13"
  }
 },
 "nbformat": 4,
 "nbformat_minor": 5
}
