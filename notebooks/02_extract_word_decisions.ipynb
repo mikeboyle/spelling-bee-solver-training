{
 "cells": [
  {
   "cell_type": "markdown",
   "id": "e5b16803-03af-4363-b95b-9b29f2c8d48a",
   "metadata": {},
   "source": [
    "# 02_extract_word_decisions\n",
    "\n",
    "- read in the files from a given date range\n",
    "- for each file:\n",
    "    - find all possible words \n",
    "    - extract the explicit and implict decisions about each word\n",
    "    - write to the bronze table"
   ]
  },
  {
   "cell_type": "code",
   "execution_count": 1,
   "id": "162832ff-4821-46a3-9ed8-f249f4b97a38",
   "metadata": {},
   "outputs": [
    {
     "name": "stdout",
     "output_type": "stream",
     "text": [
      "✅ Added /Users/mike/repos/spelling-bee-solver-training to path\n",
      "Ready to import from src/\n"
     ]
    }
   ],
   "source": [
    "%run \"./00_setup.ipynb\""
   ]
  },
  {
   "cell_type": "code",
   "execution_count": 2,
   "id": "25f8271f-04ef-4cfb-96fd-2141173b8490",
   "metadata": {},
   "outputs": [],
   "source": [
    "from datetime import datetime, timedelta\n",
    "import os\n",
    "from glob import glob\n",
    "from pathlib import Path"
   ]
  },
  {
   "cell_type": "code",
   "execution_count": 3,
   "id": "1a7a8663-694a-415f-9d01-1d91d41303ba",
   "metadata": {},
   "outputs": [],
   "source": [
    "from src.constants import WORDLIST_FILENAME, DATE_FORMAT\n",
    "from src.fileutils import word_file_to_set, get_local_path\n",
    "from src.wordutils import get_letter_set_map, ingest_puzzle_by_date"
   ]
  },
  {
   "cell_type": "code",
   "execution_count": 7,
   "id": "d211f26e-3b4b-486f-9c49-bd8b9e679441",
   "metadata": {},
   "outputs": [
    {
     "name": "stdout",
     "output_type": "stream",
     "text": [
      "['2024-01-01', '2024-01-02', '2024-01-03', '2024-01-04', '2024-01-05', '2024-01-06', '2024-01-07', '2024-01-08', '2024-01-09', '2024-01-10', '2024-01-11', '2024-01-12', '2024-01-13', '2024-01-14', '2024-01-15', '2024-01-16', '2024-01-17', '2024-01-18', '2024-01-19', '2024-01-20', '2024-01-21', '2024-01-22', '2024-01-23', '2024-01-24', '2024-01-25', '2024-01-26', '2024-01-27', '2024-01-28', '2024-01-29', '2024-01-30', '2024-01-31', '2024-02-01', '2024-02-02', '2024-02-03', '2024-02-04', '2024-02-05', '2024-02-06', '2024-02-07', '2024-02-08', '2024-02-09', '2024-02-10', '2024-02-11', '2024-02-12', '2024-02-13', '2024-02-14', '2024-02-15', '2024-02-16', '2024-02-17', '2024-02-18', '2024-02-19', '2024-02-20', '2024-02-21', '2024-02-22', '2024-02-23', '2024-02-24', '2024-02-25', '2024-02-26', '2024-02-27', '2024-02-28', '2024-02-29', '2024-03-01', '2024-03-02', '2024-03-03', '2024-03-04', '2024-03-05', '2024-03-06', '2024-03-07', '2024-03-08', '2024-03-09', '2024-03-10', '2024-03-11', '2024-03-12', '2024-03-13', '2024-03-14', '2024-03-15', '2024-03-16', '2024-03-17', '2024-03-18', '2024-03-19', '2024-03-20', '2024-03-21', '2024-03-22', '2024-03-23', '2024-03-24', '2024-03-25', '2024-03-26', '2024-03-27', '2024-03-28', '2024-03-29', '2024-03-30', '2024-03-31', '2024-04-01', '2024-04-02', '2024-04-03', '2024-04-04', '2024-04-05', '2024-04-06', '2024-04-07', '2024-04-08', '2024-04-09', '2024-04-10', '2024-04-11', '2024-04-12', '2024-04-13', '2024-04-14', '2024-04-15', '2024-04-16', '2024-04-17', '2024-04-18', '2024-04-19', '2024-04-20', '2024-04-21', '2024-04-22', '2024-04-23', '2024-04-24', '2024-04-25', '2024-04-26', '2024-04-27', '2024-04-28', '2024-04-29', '2024-04-30', '2024-05-01', '2024-05-02', '2024-05-03', '2024-05-04', '2024-05-05', '2024-05-06', '2024-05-07', '2024-05-08', '2024-05-09', '2024-05-10', '2024-05-11', '2024-05-12', '2024-05-13', '2024-05-14', '2024-05-15', '2024-05-16', '2024-05-17', '2024-05-18', '2024-05-19', '2024-05-20', '2024-05-21', '2024-05-22', '2024-05-23', '2024-05-24', '2024-05-25', '2024-05-26', '2024-05-27', '2024-05-28', '2024-05-29', '2024-05-30', '2024-05-31', '2024-06-01', '2024-06-02', '2024-06-03', '2024-06-04', '2024-06-05', '2024-06-06', '2024-06-07', '2024-06-08', '2024-06-09', '2024-06-10', '2024-06-11', '2024-06-12', '2024-06-13', '2024-06-14', '2024-06-15', '2024-06-16', '2024-06-17', '2024-06-18', '2024-06-19', '2024-06-20', '2024-06-21', '2024-06-22', '2024-06-23', '2024-06-24', '2024-06-25', '2024-06-26', '2024-06-27', '2024-06-28', '2024-06-29', '2024-06-30', '2024-07-01', '2024-07-02', '2024-07-03', '2024-07-04', '2024-07-05', '2024-07-06', '2024-07-07', '2024-07-08', '2024-07-09', '2024-07-10', '2024-07-11', '2024-07-12', '2024-07-13', '2024-07-14', '2024-07-15', '2024-07-16', '2024-07-17', '2024-07-18', '2024-07-19', '2024-07-20', '2024-07-21', '2024-07-22', '2024-07-23', '2024-07-24', '2024-07-25', '2024-07-26', '2024-07-27', '2024-07-28', '2024-07-29', '2024-07-31', '2024-08-01', '2024-08-02', '2024-08-03', '2024-08-04', '2024-08-05', '2024-08-06', '2024-08-07', '2024-08-08', '2024-08-09', '2024-08-10', '2024-08-11', '2024-08-12', '2024-08-13', '2024-08-14', '2024-08-15', '2024-08-16', '2024-08-17', '2024-08-18', '2024-08-19', '2024-08-20', '2024-08-21', '2024-08-22', '2024-08-23', '2024-08-24', '2024-08-25', '2024-08-26', '2024-08-27', '2024-08-28', '2024-08-29', '2024-08-30', '2024-08-31', '2024-09-01', '2024-09-02', '2024-09-03', '2024-09-04', '2024-09-05', '2024-09-06', '2024-09-07', '2024-09-08', '2024-09-09', '2024-09-10', '2024-09-11', '2024-09-12', '2024-09-13', '2024-09-14', '2024-09-15', '2024-09-16', '2024-09-17', '2024-09-18', '2024-09-19', '2024-09-20', '2024-09-21', '2024-09-22', '2024-09-23', '2024-09-24', '2024-09-25', '2024-09-26', '2024-09-27', '2024-09-28', '2024-09-29', '2024-09-30', '2024-10-01', '2024-10-02', '2024-10-03', '2024-10-04', '2024-10-05', '2024-10-06', '2024-10-07', '2024-10-08', '2024-10-09', '2024-10-10', '2024-10-11', '2024-10-12', '2024-10-13', '2024-10-14', '2024-10-15', '2024-10-16', '2024-10-17', '2024-10-18', '2024-10-19', '2024-10-20', '2024-10-21', '2024-10-22', '2024-10-23', '2024-10-24', '2024-10-25', '2024-10-26', '2024-10-27', '2024-10-28', '2024-10-29', '2024-10-30', '2024-10-31', '2024-11-01', '2024-11-02', '2024-11-03', '2024-11-04', '2024-11-05', '2024-11-06', '2024-11-07', '2024-11-08', '2024-11-09', '2024-11-10', '2024-11-11', '2024-11-12', '2024-11-13', '2024-11-14', '2024-11-15', '2024-11-16', '2024-11-17', '2024-11-18', '2024-11-19', '2024-11-20', '2024-11-21', '2024-11-22', '2024-11-23', '2024-11-24', '2024-11-25', '2024-11-26', '2024-11-27', '2024-11-28', '2024-11-29', '2024-11-30', '2024-12-01', '2024-12-02', '2024-12-03', '2024-12-04', '2024-12-05', '2024-12-06', '2024-12-07', '2024-12-08', '2024-12-09', '2024-12-10', '2024-12-11', '2024-12-12', '2024-12-13', '2024-12-14', '2024-12-15', '2024-12-17', '2024-12-18', '2024-12-19', '2024-12-20', '2024-12-21', '2024-12-22', '2024-12-23', '2024-12-24', '2024-12-25', '2024-12-26', '2024-12-27', '2024-12-28', '2024-12-29', '2024-12-30', '2024-12-31']\n"
     ]
    }
   ],
   "source": [
    "# TODO: Parameterize YEAR in notebook, then run this per month\n",
    "# TODO: Write helper function to find all puzzle dates for a given year/month\n",
    "# TODO: need local version of this\n",
    "def get_all_json_files(path):\n",
    "    files = []\n",
    "    for item in dbutils.fs.ls(path):\n",
    "        if item.isDir():\n",
    "            files.extend(get_all_json_files(item.path))\n",
    "        elif item.path.endswith('.json'):\n",
    "            files.append(item.path)\n",
    "    return files\n",
    "# Local version - use glob\n",
    "\n",
    "YEAR = 2024\n",
    "\n",
    "start_date = datetime(2024, 1, 1)\n",
    "end_date = datetime(2025, 1, 1)\n",
    "curr_date = start_date\n",
    "\n",
    "puzzle_dates = []\n",
    "missing = [datetime(2024, 7, 30), datetime(2024, 12, 16)]\n",
    "while curr_date < end_date:\n",
    "    if curr_date not in missing:\n",
    "        puzzle_dates.append(curr_date.strftime(\"%Y-%m-%d\"))\n",
    "    curr_date += timedelta(days=1)\n",
    "\n",
    "print(puzzle_dates)"
   ]
  },
  {
   "cell_type": "code",
   "execution_count": null,
   "id": "56868d80-b045-4a9f-87bd-c530825b8725",
   "metadata": {},
   "outputs": [],
   "source": [
    "wordlist = word_file_to_set(f\"raw/wordlists/{WORDLIST_FILENAME}\")\n",
    "letter_set_map = get_letter_set_map(wordlist)"
   ]
  },
  {
   "cell_type": "code",
   "execution_count": null,
   "id": "e19f451d-baf9-4ba1-9e72-adb59c11e42c",
   "metadata": {},
   "outputs": [],
   "source": [
    "rows = []\n",
    "for puzzle_date in puzzle_dates:\n",
    "    print(f\"ingesting puzzle for {puzzle_date}...\")\n",
    "    curr_rows = ingest_puzzle(puzzle_date, wordlist, letter_set_map)\n",
    "    print(f\"{len(curr_rows)} rows created for {puzzle_date}\")\n",
    "    rows.extend(curr_rows)\n",
    "\n",
    "print(f\"{len(rows)} total rows\")\n",
    "    "
   ]
  },
  {
   "cell_type": "code",
   "execution_count": null,
   "id": "24e158a2-42aa-4ac3-ab81-91a71f61ad2f",
   "metadata": {},
   "outputs": [],
   "source": [
    "# TODO: Delete this cell (local only)\n",
    "# TODO: Create local functions for starting Spark Session (including with db)\n",
    "from pyspark.sql import SparkSession\n",
    "from pyspark.sql.types import * \n",
    "import pyspark.sql.functions as F\n",
    "spark = SparkSession.builder.getOrCreate()"
   ]
  },
  {
   "cell_type": "code",
   "execution_count": null,
   "id": "54311e2c-7742-45fb-a3f0-36624f87d1b1",
   "metadata": {},
   "outputs": [],
   "source": [
    "schema = StructType([\n",
    "    StructField(\"word\", StringType(), False),\n",
    "    StructField(\"accepted\", BooleanType(), False),\n",
    "    StructField(\"was_in_wordlist\", BooleanType(), False),\n",
    "    StructField(\"puzzle_date\", DateType(), False),\n",
    "    StructField(\"center_letter\", StringType(), False),\n",
    "    StructField(\"outer_letters\", StringType(), False),\n",
    "])\n",
    "df = spark.createDataFrame(rows, schema=schema)"
   ]
  },
  {
   "cell_type": "code",
   "execution_count": null,
   "id": "282aa46f-f534-47dd-b213-54429ec0f93b",
   "metadata": {},
   "outputs": [],
   "source": [
    "# Add derived year/month/day columns for partitioning\n",
    "df = df.withColumn(\"year\", F.year(\"puzzle_date\")) \\\n",
    "       .withColumn(\"month\", F.month(\"puzzle_date\")) \\\n",
    "       .withColumn(\"day\", F.dayofmonth(\"puzzle_date\"))"
   ]
  },
  {
   "cell_type": "code",
   "execution_count": null,
   "id": "a7e9134a-fad6-4dc9-bb1e-edf0eb036c03",
   "metadata": {},
   "outputs": [],
   "source": [
    "df.printSchema()"
   ]
  },
  {
   "cell_type": "code",
   "execution_count": null,
   "id": "529cf24a-8e25-4519-869c-352629b53188",
   "metadata": {},
   "outputs": [],
   "source": [
    "df.filter(df.was_in_wordlist == False).select(\"word\").distinct().sort(\"word\").show(100, False)"
   ]
  },
  {
   "cell_type": "code",
   "execution_count": null,
   "id": "e0172d27-e667-4a3d-a60c-6c59dc20eebe",
   "metadata": {},
   "outputs": [],
   "source": [
    "# TODO: Backfill script validates as it goes, uses replaceWhere with delta runs for a given year only, one chunk at a time\n",
    "# TODO: Daily ingest script that writes one file for a specific day/month/year\n",
    "# TODO: Repurpose helper methods to write to table, create db if it doesn't exist ... again with local and dbx code paths??\n",
    "# TODO: Try to do all writes at once or find a batch size\n",
    "# TODO: Need a way to redo the run, 1 write per puzzle date? Is that efficient??"
   ]
  }
 ],
 "metadata": {
  "kernelspec": {
   "display_name": "Python 3 (ipykernel)",
   "language": "python",
   "name": "python3"
  },
  "language_info": {
   "codemirror_mode": {
    "name": "ipython",
    "version": 3
   },
   "file_extension": ".py",
   "mimetype": "text/x-python",
   "name": "python",
   "nbconvert_exporter": "python",
   "pygments_lexer": "ipython3",
   "version": "3.11.13"
  }
 },
 "nbformat": 4,
 "nbformat_minor": 5
}
