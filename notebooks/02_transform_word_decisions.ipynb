{
 "cells": [
  {
   "cell_type": "markdown",
   "id": "e5b16803-03af-4363-b95b-9b29f2c8d48a",
   "metadata": {},
   "source": [
    "# 02_transform_word_decisions\n",
    "\n",
    "Part of single-file daily ingestion pipeline\n",
    "- Read in the puzzle file for the parameterized date\n",
    "- find all possible words \n",
    "- extract the explicit and implict decisions about each word\n",
    "- write to the bronze table\n"
   ]
  },
  {
   "cell_type": "code",
   "execution_count": null,
   "id": "162832ff-4821-46a3-9ed8-f249f4b97a38",
   "metadata": {},
   "outputs": [],
   "source": [
    "%run \"./00_setup.ipynb\""
   ]
  },
  {
   "cell_type": "code",
   "execution_count": null,
   "id": "1a7a8663-694a-415f-9d01-1d91d41303ba",
   "metadata": {},
   "outputs": [],
   "source": [
    "from src.sparkdbutils import get_or_create_db, write_to_table\n",
    "from src.fileutils import get_latest_wordlist, word_file_to_set\n",
    "from src.wordutils import get_letter_set_map, transform_puzzle_to_word_decisions_by_date\n",
    "from src.bronzeutils import rows_to_word_decisions_df, WORD_DECISIONS_PARTITIONS"
   ]
  },
  {
   "cell_type": "code",
   "execution_count": null,
   "id": "19978db4-864a-4b44-bd1a-759427f29d7d",
   "metadata": {},
   "outputs": [],
   "source": [
    "# TODO: Parameterized _PUZZLE_DATE\n",
    "_PUZZLE_DATE = \"YYYY-MM-DD\""
   ]
  },
  {
   "cell_type": "code",
   "execution_count": null,
   "id": "4f0b7417-a61b-40d0-be91-f67033b12b62",
   "metadata": {},
   "outputs": [],
   "source": [
    "wordlist_filename, wordlist_version = get_latest_wordlist()\n",
    "wordlist = word_file_to_set(wordlist_filename)\n",
    "letter_set_map = get_letter_set_map(wordlist)"
   ]
  },
  {
   "cell_type": "code",
   "execution_count": null,
   "id": "c0c56357-21f3-491c-9066-40e2ed3bca19",
   "metadata": {},
   "outputs": [],
   "source": [
    "rows = transform_puzzle_to_word_decisions_by_date(_PUZZLE_DATE, \n",
    "                                                  wordlist, \n",
    "                                                  letter_set_map, \n",
    "                                                  wordlist_version)"
   ]
  },
  {
   "cell_type": "code",
   "execution_count": null,
   "id": "5259503c-a792-43b8-ac16-2b8eba9868b6",
   "metadata": {},
   "outputs": [],
   "source": [
    "df = rows_to_word_decisions_df(rows, spark)"
   ]
  },
  {
   "cell_type": "code",
   "execution_count": null,
   "id": "a624b206-ac72-4d4f-b12d-1a2d417c70a7",
   "metadata": {},
   "outputs": [],
   "source": [
    "print(df.count())\n",
    "df.printSchema()"
   ]
  },
  {
   "cell_type": "code",
   "execution_count": null,
   "id": "0436f7e2-1b79-4046-98e9-863cfb5c7e73",
   "metadata": {},
   "outputs": [],
   "source": [
    "df.show(10, False)"
   ]
  },
  {
   "cell_type": "code",
   "execution_count": null,
   "id": "f0567166-e744-4518-8714-5544e9d03c52",
   "metadata": {},
   "outputs": [],
   "source": [
    "# TODO: Pipeline parameter for db name, table name, puzzle_date, etc.\n",
    "# TODO: Do not set this as a variable here\n",
    "_TARGET_DB_NAME = \"bronze\"\n",
    "get_or_create_db(spark, _TARGET_DB_NAME)"
   ]
  },
  {
   "cell_type": "code",
   "execution_count": null,
   "id": "aefcdc7e-b9b0-4a9e-b4c6-b09d496a712f",
   "metadata": {},
   "outputs": [],
   "source": [
    "# TODO: Pipeline parameter for table name\n",
    "_TABLE_NAME = \"word_decisions\"\n",
    "\n",
    "# TODO: Extract to a helper function\n",
    "year, month, day = _PUZZLE_DATE.split(\"-\")\n",
    "replace_where_dict = {\n",
    "    \"year\": int(year),\n",
    "    \"month\": int(month),\n",
    "    \"day\": int(day)\n",
    "}\n",
    "partitions = [\"year\", \"month\"]\n",
    "\n",
    "write_to_table(spark, \n",
    "               df, \n",
    "               _TARGET_DB_NAME, \n",
    "               _TABLE_NAME, \n",
    "               replace_where_dict, \n",
    "               WORD_DECISIONS_PARTITIONS)"
   ]
  },
  {
   "cell_type": "code",
   "execution_count": null,
   "id": "fa374dff-56a7-4d14-a8cd-b04c8911dcdb",
   "metadata": {},
   "outputs": [],
   "source": [
    "df2 = spark.sql(\"SELECT * FROM bronze.word_decisions\")\n",
    "print(df2.count())\n",
    "df2.show(10, False)"
   ]
  },
  {
   "cell_type": "code",
   "execution_count": null,
   "id": "a357a213-2f7e-4b89-8a23-0414783851ec",
   "metadata": {},
   "outputs": [],
   "source": [
    "df2.select([\"year\", \"month\"]).distinct().sort([\"year\", \"month\"]).show()"
   ]
  }
 ],
 "metadata": {
  "kernelspec": {
   "display_name": "Python 3 (ipykernel)",
   "language": "python",
   "name": "python3"
  },
  "language_info": {
   "codemirror_mode": {
    "name": "ipython",
    "version": 3
   },
   "file_extension": ".py",
   "mimetype": "text/x-python",
   "name": "python",
   "nbconvert_exporter": "python",
   "pygments_lexer": "ipython3",
   "version": "3.11.13"
  }
 },
 "nbformat": 4,
 "nbformat_minor": 5
}
