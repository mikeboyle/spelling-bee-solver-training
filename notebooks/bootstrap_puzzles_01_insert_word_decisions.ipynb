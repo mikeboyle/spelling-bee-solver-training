{
 "cells": [
  {
   "cell_type": "markdown",
   "metadata": {
    "application/vnd.databricks.v1+cell": {
     "cellMetadata": {},
     "inputWidgets": {},
     "nuid": "4200ec87-f122-4971-b060-a015e23c44ea",
     "showTitle": false,
     "tableResultSettingsMap": {},
     "title": ""
    }
   },
   "source": [
    "# bootstrap_puzzles_01_insert_word_decisions\n",
    "\n",
    "Processes past puzzles in raw storage. For each puzzle, writes a `word_decision` record for each word in the puzzle's answers, as well as each word in the `bronze.words` table which _could_ have been an officila answer (it was possible to form it from the game's letters) but was implicitly rejected.\n",
    "\n",
    "- One backfill pipeline run per year\n",
    "- Get words from bronze.words, transform into letter_set_map\n",
    "- Work in batches of one month\n",
    "- For each month:\n",
    "    - Get the filepaths of puzzles for that month\n",
    "    - Transform each puzzle into `word_decisions` table rows, using the letter_set_map\n",
    "    - Write batch of rows to the bronze table\n",
    "    - TODO: perform validation checks and audit logs before and after each write op\n",
    "\n",
    "## NOTE:\n",
    "- Bootstrap for all puzzles up to and including 2025-06-23\n",
    "- Do not include puzzles beyond this date \n",
    "\n",
    "## ⚠️ Not working locally? ⚠️\n",
    "\n",
    "To run this notebook locally, edit the first code cell:\n",
    "\n",
    "Change:  \n",
    "`%run \"./00_setup\"`  \n",
    "To:  \n",
    "`%run \"./00_setup.ipynb\"`\n",
    "\n",
    "👉 _Please **do not commit** this change — it's only for local execution._"
   ]
  },
  {
   "cell_type": "code",
   "execution_count": 0,
   "metadata": {
    "application/vnd.databricks.v1+cell": {
     "cellMetadata": {
      "byteLimit": 2048000,
      "rowLimit": 10000
     },
     "inputWidgets": {},
     "nuid": "6e926cf0-63f8-4b5c-adec-c78252d241bb",
     "showTitle": false,
     "tableResultSettingsMap": {},
     "title": ""
    }
   },
   "outputs": [],
   "source": [
    "%run \"./00_setup\""
   ]
  },
  {
   "cell_type": "code",
   "execution_count": 0,
   "metadata": {
    "application/vnd.databricks.v1+cell": {
     "cellMetadata": {
      "byteLimit": 2048000,
      "rowLimit": 10000
     },
     "inputWidgets": {},
     "nuid": "024b0ad0-eb99-4325-9d0c-a4febcb6fc44",
     "showTitle": false,
     "tableResultSettingsMap": {},
     "title": ""
    }
   },
   "outputs": [],
   "source": [
    "from src.bronzeutils import rows_to_word_decisions_df, WORD_DECISIONS_PARTITIONS\n",
    "from src.fileutils import get_puzzle_paths\n",
    "from src.sparkdbutils import create_db, write_to_table_replace_where\n",
    "from src.wordutils import get_letter_set_map, transform_puzzle_to_word_decisions_by_path"
   ]
  },
  {
   "cell_type": "code",
   "execution_count": 0,
   "metadata": {
    "application/vnd.databricks.v1+cell": {
     "cellMetadata": {
      "byteLimit": 2048000,
      "rowLimit": 10000
     },
     "inputWidgets": {},
     "nuid": "915bcbd3-0049-4601-9b27-7e8448ffbe0e",
     "showTitle": false,
     "tableResultSettingsMap": {},
     "title": ""
    }
   },
   "outputs": [],
   "source": [
    "from typing import Any"
   ]
  },
  {
   "cell_type": "code",
   "execution_count": 0,
   "metadata": {
    "application/vnd.databricks.v1+cell": {
     "cellMetadata": {
      "byteLimit": 2048000,
      "rowLimit": 10000
     },
     "inputWidgets": {},
     "nuid": "b13f3f61-27f1-4c80-8f3b-1fdf3a81dfbd",
     "showTitle": false,
     "tableResultSettingsMap": {},
     "title": ""
    }
   },
   "outputs": [],
   "source": [
    "# TODO: Parameterize _YEAR, _TARGET_DB_NAME, _TABLE_NAME\n",
    "_YEAR = 2023\n",
    "_SOURCE_DB_NAME = \"bronze\"\n",
    "_SOURCE_TABLE_NAME = \"words\"\n",
    "_TARGET_DB_NAME = \"bronze\"\n",
    "_TARGET_TABLE_NAME = \"word_decisions\""
   ]
  },
  {
   "cell_type": "code",
   "execution_count": 0,
   "metadata": {
    "application/vnd.databricks.v1+cell": {
     "cellMetadata": {
      "byteLimit": 2048000,
      "rowLimit": 10000
     },
     "inputWidgets": {},
     "nuid": "3ceefd51-db4b-4869-a6f5-cfd301f3534f",
     "showTitle": false,
     "tableResultSettingsMap": {},
     "title": ""
    }
   },
   "outputs": [],
   "source": [
    "# Get all words and convert to letter_set_map\n",
    "words_df = spark.sql(f\"SELECT word FROM {_SOURCE_DB_NAME}.{_SOURCE_TABLE_NAME}\")\n",
    "words_list = sorted([row.word for row in words_df.select(\"word\").collect()])\n",
    "letter_set_map = get_letter_set_map(words_list)"
   ]
  },
  {
   "cell_type": "code",
   "execution_count": 0,
   "metadata": {
    "application/vnd.databricks.v1+cell": {
     "cellMetadata": {
      "byteLimit": 2048000,
      "rowLimit": 10000
     },
     "inputWidgets": {},
     "nuid": "bc497efc-94cd-4697-828f-325246a59076",
     "showTitle": false,
     "tableResultSettingsMap": {},
     "title": ""
    }
   },
   "outputs": [],
   "source": [
    "def process_month(year: int, month: int, letter_set_map: dict[str, list[Any]]) -> list[dict[str, Any]]:\n",
    "    \"\"\"\n",
    "    Returns word_decision rows for all puzzles in the given year/month\n",
    "    \"\"\"\n",
    "    rows = []\n",
    "    puzzle_paths = get_puzzle_paths(year, month)\n",
    "    for puzzle_path in sorted(puzzle_paths):\n",
    "        curr_rows = transform_puzzle_to_word_decisions_by_path(puzzle_path, letter_set_map)\n",
    "        rows.extend(curr_rows)\n",
    "\n",
    "    return rows_to_word_decisions_df(rows, spark)"
   ]
  },
  {
   "cell_type": "code",
   "execution_count": 0,
   "metadata": {
    "application/vnd.databricks.v1+cell": {
     "cellMetadata": {
      "byteLimit": 2048000,
      "rowLimit": 10000
     },
     "inputWidgets": {},
     "nuid": "624b43de-8f52-4828-a965-ad814f7938b7",
     "showTitle": false,
     "tableResultSettingsMap": {},
     "title": ""
    }
   },
   "outputs": [],
   "source": [
    "# Create db if not done already\n",
    "create_db(spark, _TARGET_DB_NAME)"
   ]
  },
  {
   "cell_type": "code",
   "execution_count": 0,
   "metadata": {
    "application/vnd.databricks.v1+cell": {
     "cellMetadata": {
      "byteLimit": 2048000,
      "rowLimit": 10000
     },
     "inputWidgets": {},
     "nuid": "08936674-dd91-4371-b8b0-6a53392a325e",
     "showTitle": false,
     "tableResultSettingsMap": {},
     "title": ""
    }
   },
   "outputs": [],
   "source": [
    "total_rows = 0\n",
    "\n",
    "for month in range(1, 13):\n",
    "    print(f\"Processing year {_YEAR}, month {month}...\")\n",
    "    df = process_month(_YEAR, month, letter_set_map)\n",
    "    \n",
    "    curr_count = df.count()\n",
    "    total_rows += curr_count\n",
    "    print(f\"Writing {curr_count} rows to {_TARGET_DB_NAME}.{_TARGET_TABLE_NAME}\")\n",
    "    replace_where_dict = {\n",
    "        \"year\": _YEAR,\n",
    "        \"month\": month,\n",
    "    }\n",
    "    write_to_table_replace_where(spark,\n",
    "                   df,\n",
    "                   _TARGET_DB_NAME,\n",
    "                   _TARGET_TABLE_NAME,\n",
    "                   replace_where_dict,\n",
    "                   WORD_DECISIONS_PARTITIONS)\n",
    "\n",
    "    # TODO: validation, audit log, etc.\n",
    "print(f\"{total_rows} rows written in total\")"
   ]
  },
  {
   "cell_type": "code",
   "execution_count": 0,
   "metadata": {
    "application/vnd.databricks.v1+cell": {
     "cellMetadata": {
      "byteLimit": 2048000,
      "rowLimit": 10000
     },
     "inputWidgets": {},
     "nuid": "ea233b82-57a8-48d5-9fdd-1ad3a975f2ac",
     "showTitle": false,
     "tableResultSettingsMap": {},
     "title": ""
    }
   },
   "outputs": [],
   "source": [
    "# Uncomment for debugging / validation\n",
    "# df2 = spark.sql(\"SELECT * FROM bronze.word_decisions\")\n",
    "# print(f\"{df2.count()} total rows in table\")\n",
    "# df2.show(10, False)"
   ]
  },
  {
   "cell_type": "code",
   "execution_count": 0,
   "metadata": {
    "application/vnd.databricks.v1+cell": {
     "cellMetadata": {
      "byteLimit": 2048000,
      "rowLimit": 10000
     },
     "inputWidgets": {},
     "nuid": "52195f35-f1bc-4921-83ae-0f680e6bbbde",
     "showTitle": false,
     "tableResultSettingsMap": {},
     "title": ""
    }
   },
   "outputs": [],
   "source": [
    "# Uncomment for debugging / validation\n",
    "# df2.select([\"year\", \"month\"]).distinct().sort([\"year\", \"month\",]).show(50, False)"
   ]
  }
 ],
 "metadata": {
  "application/vnd.databricks.v1+notebook": {
   "computePreferences": null,
   "dashboards": [],
   "environmentMetadata": null,
   "inputWidgetPreferences": null,
   "language": "python",
   "notebookMetadata": {
    "pythonIndentUnit": 4
   },
   "notebookName": "bootstrap_puzzles_01_insert_word_decisions",
   "widgets": {}
  },
  "kernelspec": {
   "display_name": "Python 3 (ipykernel)",
   "language": "python",
   "name": "python3"
  },
  "language_info": {
   "name": "python"
  }
 },
 "nbformat": 4,
 "nbformat_minor": 0
}
