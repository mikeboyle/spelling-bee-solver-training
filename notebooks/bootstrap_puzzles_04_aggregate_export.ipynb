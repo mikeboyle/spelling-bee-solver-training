{
 "cells": [
  {
   "cell_type": "markdown",
   "id": "5b7414e3-43d9-438d-87fe-cfd4617aec28",
   "metadata": {},
   "source": [
    "# bootstrap_puzzles_04_aggregate_export\n",
    "\n",
    "Groups the `gold.word_probabilities` table by letter_set, aggregating all words for that letter set in an array.\n",
    "\n",
    "This allows faster lookup of words by letter_set for inference (solving).\n",
    "\n",
    "Exports the aggregated table as a JSON file, tagging the file as `.latest.json` if it is the latest file in the exports dir."
   ]
  },
  {
   "cell_type": "code",
   "execution_count": null,
   "id": "a291719c-ff5e-4ac3-bd12-05bfffdb52e6",
   "metadata": {
    "scrolled": true
   },
   "outputs": [],
   "source": [
    "%run \"./00_setup.ipynb\""
   ]
  },
  {
   "cell_type": "code",
   "execution_count": null,
   "id": "24028762-976a-4c9f-972a-ef73d639ddad",
   "metadata": {},
   "outputs": [],
   "source": [
    "from pyspark.sql import functions as F\n",
    "import json\n",
    "from pathlib import Path\n",
    "from datetime import datetime\n",
    "import time\n",
    "\n",
    "from src.fileutils import get_local_path, get_all_files\n",
    "from src.constants import EXPORT_PATH, DATE_FORMAT"
   ]
  },
  {
   "cell_type": "code",
   "execution_count": null,
   "id": "f5765492-0fab-4e0b-9764-f993c2274f9c",
   "metadata": {},
   "outputs": [],
   "source": [
    "# TODO: Parameterize\n",
    "_SOURCE_DB_NAME = \"gold\"\n",
    "_SOURCE_TABLE_NAME = \"word_probabilities\"\n",
    "_PUZZLE_DATE = \"2025-06-23\" # could be None for bootstrap?"
   ]
  },
  {
   "cell_type": "code",
   "execution_count": null,
   "id": "e3b95768-dd16-4b4a-8492-8b3634428597",
   "metadata": {},
   "outputs": [],
   "source": [
    "# Get the gold layer table of word probabilities\n",
    "df = spark.sql(f\"SELECT * FROM {_SOURCE_DB_NAME}.{_SOURCE_TABLE_NAME}\")"
   ]
  },
  {
   "cell_type": "code",
   "execution_count": null,
   "id": "60b1e66c-3ff0-475d-a641-2b59fb17f30c",
   "metadata": {},
   "outputs": [],
   "source": [
    "print(f\"Loaded {df.count()} records from {_SOURCE_DB_NAME}.{_SOURCE_TABLE_NAME}\")\n",
    "print(\"Labeled samples:\")\n",
    "df.filter(F.col(\"source\") == \"truth\").show(5)\n",
    "\n",
    "print(\"Predicted positive samples:\")\n",
    "df.filter(F.col(\"source\") == \"model\").sort(\"probability\", ascending=False).show(5)\n",
    "\n",
    "print(\"Predicted negative samples:\")\n",
    "df.filter(F.col(\"source\") == \"model\").sort(\"probability\").show(5)"
   ]
  },
  {
   "cell_type": "code",
   "execution_count": null,
   "id": "d8461a3c-a5fd-41b9-890b-7cd737b2cbeb",
   "metadata": {},
   "outputs": [],
   "source": [
    "# Aggregate by letter_set\n",
    "result_df = df.groupBy(\"letter_set\").agg(\n",
    "    F.collect_list(\n",
    "        F.struct(\n",
    "            F.col(\"word\").alias(\"word\"),\n",
    "            F.col(\"probability\").alias(\"probability\"),\n",
    "            F.col(\"last_seen_on\").alias(\"last_seen_on\"),\n",
    "            F.col(\"letter_set\").alias(\"letter_set\")\n",
    "        )\n",
    "    ).alias(\"data\")\n",
    ")"
   ]
  },
  {
   "cell_type": "code",
   "execution_count": null,
   "id": "577b9094-3dd7-4b8d-a963-9b2c97647aef",
   "metadata": {},
   "outputs": [],
   "source": [
    "# Collect rows and convert to dictionary (this should easily fit in memory)\n",
    "\n",
    "# Use shortened key names in target dictionary\n",
    "# (This saves 2MB of space when converted to JSON, which makes for faster inference)\n",
    "source_target_key_names = [\n",
    "    (\"word\", \"word\"),\n",
    "    (\"probability\", \"prob\"),\n",
    "    (\"last_seen_on\", \"date\"),\n",
    "    (\"letter_set\", \"letters\"),\n",
    "]\n",
    "\n",
    "def to_dict(item):\n",
    "    result = {}\n",
    "    for source_key, target_key in source_target_key_names:\n",
    "        if source_key == \"last_seen_on\":\n",
    "            # Format date as string (datetime objects can't be serialized)\n",
    "            val = None if item[source_key] is None else item[source_key].strftime(DATE_FORMAT)\n",
    "            result[target_key] = val\n",
    "        else:\n",
    "            result[target_key] = item[source_key]\n",
    "\n",
    "    return result\n",
    "\n",
    "collected = result_df.collect()\n",
    "json_dict = {row.letter_set: [to_dict(item) for item in row.data] for row in collected}\n",
    "\n",
    "\n",
    "print(f\"Converted to dictionary with {len(json_dict)} keys\")\n",
    "for letter_set, data in list(json_dict.items())[:5]:\n",
    "    print(f\"{letter_set}: {data}\")"
   ]
  },
  {
   "cell_type": "code",
   "execution_count": null,
   "id": "b7358b0f-5467-4c9d-85eb-a121219ab1b3",
   "metadata": {},
   "outputs": [],
   "source": [
    "def parse_latest_file_date(file_path: str) -> datetime:\n",
    "    \"\"\"\n",
    "    Get the date of the latest_file. This is the \"logical\" date, meaning that it\n",
    "    covers all past puzzles processed up to and including this date. This is different\n",
    "    from the date when the file was created.\n",
    "\n",
    "    Assumes file name structure: data_{YYYY-MM-DD date}_{timestamp of creation}.json\n",
    "    \"\"\"\n",
    "    file_name = Path(file_path).stem # drop .json\n",
    "    _, date_str, _ = file_name.split(\"_\")\n",
    "    return datetime.strptime(date_str, DATE_FORMAT)"
   ]
  },
  {
   "cell_type": "code",
   "execution_count": null,
   "id": "2f811fda-050c-479f-af34-c3d408f59f09",
   "metadata": {},
   "outputs": [],
   "source": [
    "def move_out_of_latest(file_path: str):\n",
    "    \"\"\"Moves a file out of the /latest dir and into the parent of /latest\"\"\"\n",
    "    source = Path(file_path)\n",
    "\n",
    "    if not source.exists():\n",
    "        raise FileNotFoundError(f\"{source} does not exist.\")\n",
    "\n",
    "    if source.parent.name != \"latest\":\n",
    "        raise ValueError(f\"Expected file to be in a 'latest' directory, but found: {source.parent}\")\n",
    "\n",
    "    destination = source.parent.parent / source.name\n",
    "    source.rename(destination)\n",
    "\n",
    "    print(f\"✅ File moved to: {destination}\")"
   ]
  },
  {
   "cell_type": "code",
   "execution_count": null,
   "id": "6666168e-e6ce-4b51-a414-69f2d6a26032",
   "metadata": {},
   "outputs": [],
   "source": [
    "# Create {EXPORT_PATH}/latest dirs if needed\n",
    "export_dir = Path(get_local_path(EXPORT_PATH))\n",
    "latest_dir = export_dir / \"latest\"\n",
    "latest_dir.mkdir(parents=True, exist_ok=True)"
   ]
  },
  {
   "cell_type": "code",
   "execution_count": null,
   "id": "685ede19-e7e5-4c94-aceb-4134a4afa77d",
   "metadata": {},
   "outputs": [],
   "source": [
    "# Get the current \"latest\" file (if any)\n",
    "latest_files = get_all_files(f\"{EXPORT_PATH}/latest\", [\".json\"])"
   ]
  },
  {
   "cell_type": "code",
   "execution_count": null,
   "id": "ad06a467-e314-4355-ad85-8824a055e463",
   "metadata": {},
   "outputs": [],
   "source": [
    "# Fail if there is more than one latest file\n",
    "if len(latest_files) > 1:\n",
    "    raise Exception(f\"{latest_dir} should have only one `.latest.json` file; found {len(latest_files)}. Please fix and rerun.\")\n",
    "    "
   ]
  },
  {
   "cell_type": "code",
   "execution_count": null,
   "id": "061235cb-f37d-4768-b5fb-83793fab70b6",
   "metadata": {},
   "outputs": [],
   "source": [
    "# Log if there is no latest file\n",
    "if len(latest_files) == 0:\n",
    "    print(f\"🔎 No `.json` files found in {latest_dir}.\")"
   ]
  },
  {
   "cell_type": "code",
   "execution_count": null,
   "id": "5ffd6e71-8044-44b7-b751-addc552525cd",
   "metadata": {},
   "outputs": [],
   "source": [
    "# If there is already a file in /latest...\n",
    "if len(latest_files) == 1:\n",
    "    # Compare the file date to the puzzle date\n",
    "    latest_file = latest_files[0]\n",
    "    latest_date = parse_latest_file_date(latest_file)\n",
    "    current_date = datetime.strptime(_PUZZLE_DATE, DATE_FORMAT)\n",
    "\n",
    "    # Fail if the current_date < latest_date\n",
    "    if current_date < latest_date:\n",
    "        raise Exception(f\"Puzzle date {_PUZZLE_DATE} must be same or later than latest date: {latest_date.strftime(DATE_FORMAT)}\")\n",
    "    \n",
    "    # Otherwise move the latest file out of /latest into the parent dir of /latest\n",
    "    print(f\"🧹 Moving previous file {latest_dir} out of /latest ...\")\n",
    "    move_out_of_latest(latest_file)"
   ]
  },
  {
   "cell_type": "code",
   "execution_count": null,
   "id": "103044ad-bb3f-47a2-8e4a-0392243eae3e",
   "metadata": {},
   "outputs": [],
   "source": [
    "# Save the new data in /latest\n",
    "creation_timestamp = str(int(time.time()))\n",
    "new_file_path = latest_dir / f\"data_{_PUZZLE_DATE}_{creation_timestamp}.json\""
   ]
  },
  {
   "cell_type": "code",
   "execution_count": null,
   "id": "1f872229-a890-4b75-99e8-c2f91b7f04b9",
   "metadata": {},
   "outputs": [],
   "source": [
    "# Dump json with minimal whitespace (cuts file size almost in half)\n",
    "with open(f\"{new_file_path}\", \"w\") as f:\n",
    "    json.dump(json_dict, f, sort_keys=True, separators=(',', ':'))\n",
    "\n",
    "print(f\"✅ File saved as {new_file_path}\")"
   ]
  }
 ],
 "metadata": {
  "kernelspec": {
   "display_name": "Python 3 (ipykernel)",
   "language": "python",
   "name": "python3"
  },
  "language_info": {
   "codemirror_mode": {
    "name": "ipython",
    "version": 3
   },
   "file_extension": ".py",
   "mimetype": "text/x-python",
   "name": "python",
   "nbconvert_exporter": "python",
   "pygments_lexer": "ipython3",
   "version": "3.11.13"
  }
 },
 "nbformat": 4,
 "nbformat_minor": 5
}
