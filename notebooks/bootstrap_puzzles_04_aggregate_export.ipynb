{
 "cells": [
  {
   "cell_type": "markdown",
   "metadata": {
    "application/vnd.databricks.v1+cell": {
     "cellMetadata": {},
     "inputWidgets": {},
     "nuid": "9cb0fc67-0e08-4f8e-b2dd-9f1834ac4f18",
     "showTitle": false,
     "tableResultSettingsMap": {},
     "title": ""
    }
   },
   "source": [
    "# bootstrap_puzzles_04_aggregate_export\n",
    "\n",
    "Groups the `gold.word_probabilities` table by letter_set, aggregating all words for that letter set in an array.\n",
    "\n",
    "This allows faster lookup of words by letter_set for inference (solving).\n",
    "\n",
    "Exports the aggregated table as a JSON file, tagging the file as `.latest.json` if it is the latest file in the exports dir."
   ]
  },
  {
   "cell_type": "code",
   "execution_count": 0,
   "metadata": {
    "application/vnd.databricks.v1+cell": {
     "cellMetadata": {},
     "inputWidgets": {},
     "nuid": "6805e60f-0396-426d-9c3b-f4c7bc3fc8b1",
     "showTitle": false,
     "tableResultSettingsMap": {},
     "title": ""
    },
    "scrolled": true
   },
   "outputs": [],
   "source": [
    "%run \"./00_setup\""
   ]
  },
  {
   "cell_type": "code",
   "execution_count": 0,
   "metadata": {
    "application/vnd.databricks.v1+cell": {
     "cellMetadata": {},
     "inputWidgets": {},
     "nuid": "c07fd511-be90-4c6e-a60c-9fcad9d8b856",
     "showTitle": false,
     "tableResultSettingsMap": {},
     "title": ""
    }
   },
   "outputs": [],
   "source": [
    "from pyspark.sql import functions as F\n",
    "import json\n",
    "from pathlib import Path\n",
    "from datetime import datetime\n",
    "import time\n",
    "\n",
    "from src.fileutils import get_local_path, get_all_files\n",
    "from src.constants import EXPORT_PATH, DATE_FORMAT"
   ]
  },
  {
   "cell_type": "code",
   "execution_count": 0,
   "metadata": {
    "application/vnd.databricks.v1+cell": {
     "cellMetadata": {},
     "inputWidgets": {},
     "nuid": "12b4a837-1190-463a-95b5-e5652a54c133",
     "showTitle": false,
     "tableResultSettingsMap": {},
     "title": ""
    }
   },
   "outputs": [],
   "source": [
    "# TODO: Parameterize\n",
    "_SOURCE_DB_NAME = \"gold\"\n",
    "_SOURCE_TABLE_NAME = \"word_probabilities\"\n",
    "_PUZZLE_DATE = \"2025-06-23\" # could be None for bootstrap?"
   ]
  },
  {
   "cell_type": "code",
   "execution_count": 0,
   "metadata": {
    "application/vnd.databricks.v1+cell": {
     "cellMetadata": {},
     "inputWidgets": {},
     "nuid": "8dfb0a60-76c2-413d-b40e-46be7dd8b0c2",
     "showTitle": false,
     "tableResultSettingsMap": {},
     "title": ""
    }
   },
   "outputs": [],
   "source": [
    "# Get the gold layer table of word probabilities\n",
    "df = spark.sql(f\"SELECT * FROM {_SOURCE_DB_NAME}.{_SOURCE_TABLE_NAME}\")"
   ]
  },
  {
   "cell_type": "code",
   "execution_count": 0,
   "metadata": {
    "application/vnd.databricks.v1+cell": {
     "cellMetadata": {},
     "inputWidgets": {},
     "nuid": "f798fa5c-8938-41e6-819d-898873c0392f",
     "showTitle": false,
     "tableResultSettingsMap": {},
     "title": ""
    }
   },
   "outputs": [],
   "source": [
    "print(f\"Loaded {df.count()} records from {_SOURCE_DB_NAME}.{_SOURCE_TABLE_NAME}\")\n",
    "print(\"Labeled samples:\")\n",
    "df.filter(F.col(\"source\") == \"truth\").show(5)\n",
    "\n",
    "print(\"Predicted positive samples:\")\n",
    "df.filter(F.col(\"source\") == \"model\").sort(\"probability\", ascending=False).show(5)\n",
    "\n",
    "print(\"Predicted negative samples:\")\n",
    "df.filter(F.col(\"source\") == \"model\").sort(\"probability\").show(5)"
   ]
  },
  {
   "cell_type": "code",
   "execution_count": 0,
   "metadata": {
    "application/vnd.databricks.v1+cell": {
     "cellMetadata": {},
     "inputWidgets": {},
     "nuid": "44b72dfe-5c35-418b-bb1f-6b90cc8314f3",
     "showTitle": false,
     "tableResultSettingsMap": {},
     "title": ""
    }
   },
   "outputs": [],
   "source": [
    "# Aggregate by letter_set\n",
    "result_df = df.groupBy(\"letter_set\").agg(\n",
    "    F.collect_list(\n",
    "        F.struct(\n",
    "            F.col(\"word\").alias(\"word\"),\n",
    "            F.col(\"probability\").alias(\"probability\"),\n",
    "            F.col(\"last_seen_on\").alias(\"last_seen_on\"),\n",
    "            F.col(\"letter_set\").alias(\"letter_set\")\n",
    "        )\n",
    "    ).alias(\"data\")\n",
    ")"
   ]
  },
  {
   "cell_type": "code",
   "execution_count": 0,
   "metadata": {
    "application/vnd.databricks.v1+cell": {
     "cellMetadata": {},
     "inputWidgets": {},
     "nuid": "29712c41-227b-4c08-92f4-5fe859eb0dee",
     "showTitle": false,
     "tableResultSettingsMap": {},
     "title": ""
    }
   },
   "outputs": [],
   "source": [
    "# Collect rows and convert to dictionary (this should easily fit in memory)\n",
    "\n",
    "# Use shortened key names in target dictionary\n",
    "# (This saves 2MB of space when converted to JSON, which makes for faster inference)\n",
    "source_target_key_names = [\n",
    "    (\"word\", \"word\"),\n",
    "    (\"probability\", \"prob\"),\n",
    "    (\"last_seen_on\", \"date\"),\n",
    "    (\"letter_set\", \"letters\"),\n",
    "]\n",
    "\n",
    "def to_dict(item):\n",
    "    result = {}\n",
    "    for source_key, target_key in source_target_key_names:\n",
    "        if source_key == \"last_seen_on\":\n",
    "            # Format date as string (datetime objects can't be serialized)\n",
    "            val = None if item[source_key] is None else item[source_key].strftime(DATE_FORMAT)\n",
    "            result[target_key] = val\n",
    "        else:\n",
    "            result[target_key] = item[source_key]\n",
    "\n",
    "    return result\n",
    "\n",
    "collected = result_df.collect()\n",
    "json_dict = {row.letter_set: [to_dict(item) for item in row.data] for row in collected}\n",
    "\n",
    "\n",
    "print(f\"Converted to dictionary with {len(json_dict)} keys\")\n",
    "for letter_set, data in list(json_dict.items())[:5]:\n",
    "    print(f\"{letter_set}: {data}\")"
   ]
  },
  {
   "cell_type": "code",
   "execution_count": 0,
   "metadata": {
    "application/vnd.databricks.v1+cell": {
     "cellMetadata": {},
     "inputWidgets": {},
     "nuid": "53f0e1c3-acd2-44f4-bc34-adb3679a1f8f",
     "showTitle": false,
     "tableResultSettingsMap": {},
     "title": ""
    }
   },
   "outputs": [],
   "source": [
    "def parse_latest_file_date(file_path: str) -> datetime:\n",
    "    \"\"\"\n",
    "    Get the date of the latest_file. This is the \"logical\" date, meaning that it\n",
    "    covers all past puzzles processed up to and including this date. This is different\n",
    "    from the date when the file was created.\n",
    "\n",
    "    Assumes file name structure: data_{YYYY-MM-DD date}_{timestamp of creation}.json\n",
    "    \"\"\"\n",
    "    file_name = Path(file_path).stem # drop .json\n",
    "    _, date_str, _ = file_name.split(\"_\")\n",
    "    return datetime.strptime(date_str, DATE_FORMAT)"
   ]
  },
  {
   "cell_type": "code",
   "execution_count": 0,
   "metadata": {
    "application/vnd.databricks.v1+cell": {
     "cellMetadata": {},
     "inputWidgets": {},
     "nuid": "399577ac-20fa-4eef-b531-693fc73bf535",
     "showTitle": false,
     "tableResultSettingsMap": {},
     "title": ""
    }
   },
   "outputs": [],
   "source": [
    "def move_out_of_latest(file_path: str):\n",
    "    \"\"\"Moves a file out of the /latest dir and into the parent of /latest\"\"\"\n",
    "    source = Path(file_path)\n",
    "\n",
    "    if not source.exists():\n",
    "        raise FileNotFoundError(f\"{source} does not exist.\")\n",
    "\n",
    "    if source.parent.name != \"latest\":\n",
    "        raise ValueError(f\"Expected file to be in a 'latest' directory, but found: {source.parent}\")\n",
    "\n",
    "    destination = source.parent.parent / source.name\n",
    "    source.rename(destination)\n",
    "\n",
    "    print(f\"✅ File moved to: {destination}\")"
   ]
  },
  {
   "cell_type": "code",
   "execution_count": 0,
   "metadata": {
    "application/vnd.databricks.v1+cell": {
     "cellMetadata": {},
     "inputWidgets": {},
     "nuid": "ca6ee7ec-5b66-45e8-ad2f-03b42b06c259",
     "showTitle": false,
     "tableResultSettingsMap": {},
     "title": ""
    }
   },
   "outputs": [],
   "source": [
    "# Create {EXPORT_PATH}/latest dirs if needed\n",
    "export_dir = Path(get_local_path(EXPORT_PATH))\n",
    "latest_dir = export_dir / \"latest\"\n",
    "latest_dir.mkdir(parents=True, exist_ok=True)"
   ]
  },
  {
   "cell_type": "code",
   "execution_count": 0,
   "metadata": {
    "application/vnd.databricks.v1+cell": {
     "cellMetadata": {},
     "inputWidgets": {},
     "nuid": "fc5b2484-26e9-41a1-832f-989679828ed5",
     "showTitle": false,
     "tableResultSettingsMap": {},
     "title": ""
    }
   },
   "outputs": [],
   "source": [
    "# Get the current \"latest\" file (if any)\n",
    "latest_files = get_all_files(f\"{EXPORT_PATH}/latest\", [\".json\"])"
   ]
  },
  {
   "cell_type": "code",
   "execution_count": 0,
   "metadata": {
    "application/vnd.databricks.v1+cell": {
     "cellMetadata": {},
     "inputWidgets": {},
     "nuid": "e8a90e97-0ca2-4b96-91ef-d9281d7a2543",
     "showTitle": false,
     "tableResultSettingsMap": {},
     "title": ""
    }
   },
   "outputs": [],
   "source": [
    "# Fail if there is more than one latest file\n",
    "if len(latest_files) > 1:\n",
    "    raise Exception(f\"{latest_dir} should have only one `.latest.json` file; found {len(latest_files)}. Please fix and rerun.\")\n",
    "    "
   ]
  },
  {
   "cell_type": "code",
   "execution_count": 0,
   "metadata": {
    "application/vnd.databricks.v1+cell": {
     "cellMetadata": {},
     "inputWidgets": {},
     "nuid": "f0df37d8-867d-4d0a-b7e6-1ffcf45d0e30",
     "showTitle": false,
     "tableResultSettingsMap": {},
     "title": ""
    }
   },
   "outputs": [],
   "source": [
    "# Log if there is no latest file\n",
    "if len(latest_files) == 0:\n",
    "    print(f\"🔎 No `.json` files found in {latest_dir}.\")"
   ]
  },
  {
   "cell_type": "code",
   "execution_count": 0,
   "metadata": {
    "application/vnd.databricks.v1+cell": {
     "cellMetadata": {},
     "inputWidgets": {},
     "nuid": "66205116-c487-4502-928a-1dfc1b9f2efb",
     "showTitle": false,
     "tableResultSettingsMap": {},
     "title": ""
    }
   },
   "outputs": [],
   "source": [
    "# If there is already a file in /latest...\n",
    "if len(latest_files) == 1:\n",
    "    # Compare the file date to the puzzle date\n",
    "    latest_file = latest_files[0]\n",
    "    latest_date = parse_latest_file_date(latest_file)\n",
    "    current_date = datetime.strptime(_PUZZLE_DATE, DATE_FORMAT)\n",
    "\n",
    "    # Fail if the current_date < latest_date\n",
    "    if current_date < latest_date:\n",
    "        raise Exception(f\"Puzzle date {_PUZZLE_DATE} must be same or later than latest date: {latest_date.strftime(DATE_FORMAT)}\")\n",
    "    \n",
    "    # Otherwise move the latest file out of /latest into the parent dir of /latest\n",
    "    print(f\"🧹 Moving previous file {latest_dir} out of /latest ...\")\n",
    "    move_out_of_latest(latest_file)"
   ]
  },
  {
   "cell_type": "code",
   "execution_count": 0,
   "metadata": {
    "application/vnd.databricks.v1+cell": {
     "cellMetadata": {},
     "inputWidgets": {},
     "nuid": "55cf856b-01e6-4886-ad9d-5fb4ca0f7c42",
     "showTitle": false,
     "tableResultSettingsMap": {},
     "title": ""
    }
   },
   "outputs": [],
   "source": [
    "# Save the new data in /latest\n",
    "creation_timestamp = str(int(time.time()))\n",
    "new_file_path = latest_dir / f\"data_{_PUZZLE_DATE}_{creation_timestamp}.json\""
   ]
  },
  {
   "cell_type": "code",
   "execution_count": 0,
   "metadata": {
    "application/vnd.databricks.v1+cell": {
     "cellMetadata": {},
     "inputWidgets": {},
     "nuid": "331213ce-1662-4cd6-ba6b-4260968a9a71",
     "showTitle": false,
     "tableResultSettingsMap": {},
     "title": ""
    }
   },
   "outputs": [],
   "source": [
    "# Dump json with minimal whitespace (cuts file size almost in half)\n",
    "with open(f\"{new_file_path}\", \"w\") as f:\n",
    "    json.dump(json_dict, f, sort_keys=True, separators=(',', ':'))\n",
    "\n",
    "print(f\"✅ File saved as {new_file_path}\")"
   ]
  }
 ],
 "metadata": {
  "application/vnd.databricks.v1+notebook": {
   "computePreferences": null,
   "dashboards": [],
   "environmentMetadata": null,
   "inputWidgetPreferences": null,
   "language": "python",
   "notebookMetadata": {
    "pythonIndentUnit": 4
   },
   "notebookName": "bootstrap_puzzles_04_aggregate_export",
   "widgets": {}
  },
  "kernelspec": {
   "display_name": "Python 3 (ipykernel)",
   "language": "python",
   "name": "python3"
  },
  "language_info": {
   "name": "python"
  }
 },
 "nbformat": 4,
 "nbformat_minor": 0
}
