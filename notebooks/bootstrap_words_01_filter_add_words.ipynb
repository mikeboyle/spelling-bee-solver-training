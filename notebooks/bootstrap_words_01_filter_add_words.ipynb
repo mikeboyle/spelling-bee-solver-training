{
 "cells": [
  {
   "cell_type": "markdown",
   "metadata": {
    "application/vnd.databricks.v1+cell": {
     "cellMetadata": {},
     "inputWidgets": {},
     "nuid": "b1cc4914-f77f-46e2-87e2-1708703c813b",
     "showTitle": false,
     "tableResultSettingsMap": {},
     "title": ""
    }
   },
   "source": [
    "# bootstrap_words_01_filter_add_words\n",
    "\n",
    "- read in external wordlist\n",
    "- filter out wordlist words that cannot be Spelling Bee solution words\n",
    "    - skip if < 4 chars long\n",
    "    - get letter_set, skip if len(letter_set) > 7\n",
    "    - append (word, letter_set, version) to rows\n",
    "- get all past puzzles from storage, find new solution words not in wordlist\n",
    "    -  add word, letter_set, and version = 2\n",
    "- for each word in puzzle_answer_words:\n",
    "    - version = 1 for words from external wordlist, = 2 for new words from puzzles \n",
    "    - add (word, letter_set, version) to rows\n",
    "- save to Delta table"
   ]
  },
  {
   "cell_type": "code",
   "execution_count": 0,
   "metadata": {
    "application/vnd.databricks.v1+cell": {
     "cellMetadata": {},
     "inputWidgets": {},
     "nuid": "cbb1bc9e-d0c5-4535-8996-22af705d6e65",
     "showTitle": false,
     "tableResultSettingsMap": {},
     "title": ""
    }
   },
   "outputs": [],
   "source": [
    "%run \"./00_setup\""
   ]
  },
  {
   "cell_type": "code",
   "execution_count": 0,
   "metadata": {
    "application/vnd.databricks.v1+cell": {
     "cellMetadata": {},
     "inputWidgets": {},
     "nuid": "1231d9bd-1fef-4408-a5bd-e779799a6f85",
     "showTitle": false,
     "tableResultSettingsMap": {},
     "title": ""
    }
   },
   "outputs": [],
   "source": [
    "# TODO: parameterize in pipeline\n",
    "_TARGET_DB_NAME = \"raw\"\n",
    "_TARGET_TABLE_NAME = \"words\""
   ]
  },
  {
   "cell_type": "code",
   "execution_count": 0,
   "metadata": {
    "application/vnd.databricks.v1+cell": {
     "cellMetadata": {},
     "inputWidgets": {},
     "nuid": "4d6479d5-4247-4c0a-9872-98811db04dac",
     "showTitle": false,
     "tableResultSettingsMap": {},
     "title": ""
    }
   },
   "outputs": [],
   "source": [
    "from src.wordutils import get_letter_set, filter_wordlist\n",
    "from src.constants import WORDLIST_PATH, RAW_WORDLIST_FILENAME, RAW_SOLUTIONS_PATH\n",
    "from src.fileutils import get_all_files, get_local_path, get_puzzle_by_path, word_file_to_set\n",
    "from src.sparkdbutils import create_db, create_unpartitioned_table\n",
    "from pyspark.sql.types import *\n",
    "import pyspark.sql.functions as F"
   ]
  },
  {
   "cell_type": "code",
   "execution_count": 0,
   "metadata": {
    "application/vnd.databricks.v1+cell": {
     "cellMetadata": {},
     "inputWidgets": {},
     "nuid": "65a0096b-3ad2-4c58-87aa-fef9a8c34e83",
     "showTitle": false,
     "tableResultSettingsMap": {},
     "title": ""
    }
   },
   "outputs": [],
   "source": [
    "# filter the wordlist\n",
    "wordlist_words = filter_wordlist(word_file_to_set(f\"{WORDLIST_PATH}/{RAW_WORDLIST_FILENAME}\"))\n",
    "print(f\"📋 {len(wordlist_words)} words after filtering external wordlist.\")"
   ]
  },
  {
   "cell_type": "code",
   "execution_count": 0,
   "metadata": {
    "application/vnd.databricks.v1+cell": {
     "cellMetadata": {},
     "inputWidgets": {},
     "nuid": "f11355f1-f9f5-49df-bbda-a819bd48c55b",
     "showTitle": false,
     "tableResultSettingsMap": {},
     "title": ""
    }
   },
   "outputs": [],
   "source": [
    "# Add solution words from past puzzles that were not in the external wordlist\n",
    "# We do not need to filter out these words. If they were in a puzzle solution, they're valid.\n",
    "\n",
    "# get all puzzle paths\n",
    "puzzle_paths = get_all_files(RAW_SOLUTIONS_PATH, [\".json\"])\n",
    "puzzle_words = set()\n",
    "\n",
    "# load each puzzle and add to answer set\n",
    "for puzzle_path in puzzle_paths:\n",
    "    puzzle = get_puzzle_by_path(puzzle_path)\n",
    "    answers = puzzle[\"answers\"]\n",
    "    puzzle_words.update(answers)\n",
    "\n",
    "new_puzzle_words = puzzle_words - wordlist_words\n",
    "all_words = new_puzzle_words | set(wordlist_words)\n",
    "print(f\"👀 {len(new_puzzle_words)} new words found in past solutions: {', '.join(sorted(new_puzzle_words))}\")\n",
    "print(f\"📋 {len(all_words)} words total after adding new words from past puzzle answers.\")"
   ]
  },
  {
   "cell_type": "code",
   "execution_count": 0,
   "metadata": {
    "application/vnd.databricks.v1+cell": {
     "cellMetadata": {},
     "inputWidgets": {},
     "nuid": "422622c3-a67c-4c3c-b53a-46607838e59c",
     "showTitle": false,
     "tableResultSettingsMap": {},
     "title": ""
    }
   },
   "outputs": [],
   "source": [
    "# create the rows\n",
    "def get_wordlist_version(word: str) -> int:\n",
    "    if word in new_puzzle_words:\n",
    "        return 2\n",
    "    else:\n",
    "        return 1\n",
    "\n",
    "rows = [(word, get_letter_set(word), get_wordlist_version(word)) for word in sorted(all_words)]"
   ]
  },
  {
   "cell_type": "code",
   "execution_count": 0,
   "metadata": {
    "application/vnd.databricks.v1+cell": {
     "cellMetadata": {},
     "inputWidgets": {},
     "nuid": "e3d829a7-71c9-4d26-86f3-7cd97fc878db",
     "showTitle": false,
     "tableResultSettingsMap": {},
     "title": ""
    }
   },
   "outputs": [],
   "source": [
    "print(f\"total rows: {len(rows)}\")\n",
    "print(f\"new_puzzle_words rows: {len([row for row in rows if row[2] == 2])}\")\n",
    "print(f\"wordlist_words rows: {len([row for row in rows if row[2] == 1])}\")"
   ]
  },
  {
   "cell_type": "code",
   "execution_count": 0,
   "metadata": {
    "application/vnd.databricks.v1+cell": {
     "cellMetadata": {},
     "inputWidgets": {},
     "nuid": "35a73aa2-4d3d-47ea-bb93-6d0870518ad7",
     "showTitle": false,
     "tableResultSettingsMap": {},
     "title": ""
    }
   },
   "outputs": [],
   "source": [
    "schema = StructType([\n",
    "    StructField(\"word\", StringType(), False),\n",
    "    StructField(\"letter_set\", StringType(), False),\n",
    "    StructField(\"version\", IntegerType(), False)\n",
    "])\n",
    "df = spark.createDataFrame(rows, schema)"
   ]
  },
  {
   "cell_type": "code",
   "execution_count": 0,
   "metadata": {
    "application/vnd.databricks.v1+cell": {
     "cellMetadata": {},
     "inputWidgets": {},
     "nuid": "fc6f1a12-53be-47c4-acd7-415aef194881",
     "showTitle": false,
     "tableResultSettingsMap": {},
     "title": ""
    }
   },
   "outputs": [],
   "source": [
    "# Finally add date_added (all null for the bootstrap script)\n",
    "# In the future, this will show the puzzle date of a word that has been\n",
    "# added to the wordlist in a future puzzle\n",
    "df = df.withColumn(\"date_added\", F.lit(None).cast(\"date\")) "
   ]
  },
  {
   "cell_type": "code",
   "execution_count": 0,
   "metadata": {
    "application/vnd.databricks.v1+cell": {
     "cellMetadata": {},
     "inputWidgets": {},
     "nuid": "5f27ebef-d72a-42b8-abe3-b7bbfa8ba85a",
     "showTitle": false,
     "tableResultSettingsMap": {},
     "title": ""
    }
   },
   "outputs": [],
   "source": [
    "create_db(spark, _TARGET_DB_NAME)\n",
    "create_unpartitioned_table(spark, df, _TARGET_TABLE_NAME, _TARGET_DB_NAME)"
   ]
  }
 ],
 "metadata": {
  "application/vnd.databricks.v1+notebook": {
   "computePreferences": null,
   "dashboards": [],
   "environmentMetadata": null,
   "inputWidgetPreferences": null,
   "language": "python",
   "notebookMetadata": {
    "pythonIndentUnit": 4
   },
   "notebookName": "bootstrap_words_01_filter_add_words",
   "widgets": {}
  },
  "kernelspec": {
   "display_name": "Python 3 (ipykernel)",
   "language": "python",
   "name": "python3"
  },
  "language_info": {
   "name": "python"
  }
 },
 "nbformat": 4,
 "nbformat_minor": 0
}
