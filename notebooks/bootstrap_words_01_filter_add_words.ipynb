{
 "cells": [
  {
   "cell_type": "markdown",
   "id": "eae4dbd1-a279-4173-b3fb-9df8582359f9",
   "metadata": {},
   "source": [
    "# bootstrap_words_01_filter_add_words\n",
    "\n",
    "- version = 1\n",
    "- read in raw external wordlist -> source set\n",
    "- rows = [ ]\n",
    "- for each word in source set:\n",
    "   - skip if < 4 chars long\n",
    "   - get letter_set, skip if len(letter_set) > 7\n",
    "   - append (word, letter_set, version) to rows\n",
    "- get all puzzle paths\n",
    "- puzzle_answer_words = set\n",
    "- for each puzzle:\n",
    "    -  load puzzle and get answers\n",
    "    -  for each word in answers:\n",
    "        -  add to puzzle_answer_words\n",
    "- for each word in puzzle_answer_words:\n",
    "    - add (word, letter_set, version) to rows\n",
    "- save rows (word, letter_set, version) to CSV"
   ]
  },
  {
   "cell_type": "code",
   "execution_count": null,
   "id": "9ae69a8d-ba77-4fdd-b6d0-777b2c32e246",
   "metadata": {},
   "outputs": [],
   "source": [
    "%run \"./00_setup.ipynb\""
   ]
  },
  {
   "cell_type": "code",
   "execution_count": null,
   "id": "49d0eabb-5257-48c7-a995-2baf5bf47417",
   "metadata": {},
   "outputs": [],
   "source": [
    "import csv\n",
    "from src.wordutils import get_letter_set, filter_wordlist\n",
    "from src.constants import WORDLIST_PATH, RAW_WORDLIST_FILENAME, RAW_SOLUTIONS_PATH, WORDLIST_TEMP_CSV_FILENAME\n",
    "from src.fileutils import get_all_files, get_local_path, get_puzzle_by_path, word_file_to_set"
   ]
  },
  {
   "cell_type": "code",
   "execution_count": null,
   "id": "57ad0d34-57f7-41a4-9ded-8a43cd9e3f49",
   "metadata": {},
   "outputs": [],
   "source": [
    "# filter the wordlist\n",
    "wordlist = filter_wordlist(word_file_to_set(f\"{WORDLIST_PATH}/{RAW_WORDLIST_FILENAME}\"))\n",
    "print(f\"{len(wordlist)} words after filtering external wordlist.\")"
   ]
  },
  {
   "cell_type": "code",
   "execution_count": null,
   "id": "9ab610fb-e5e2-48bc-a41e-54fa887b5557",
   "metadata": {},
   "outputs": [],
   "source": [
    "# Add solution words from past puzzles that were not in the external wordlist\n",
    "# We do not need to filter out these words. If they were in a puzzle solution, they're valid.\n",
    "\n",
    "# get all puzzle paths\n",
    "puzzle_paths = get_all_files(RAW_SOLUTIONS_PATH, [\".json\"])\n",
    "\n",
    "# load each puzzle and add to answer set\n",
    "print(\"loading puzzles \", end=\"\")\n",
    "for puzzle_path in puzzle_paths:\n",
    "    print(\".\", end=\"\")\n",
    "    puzzle = get_puzzle_by_path(puzzle_path)\n",
    "    answers = puzzle[\"answers\"]\n",
    "    wordlist.update(answers)\n",
    "\n",
    "print(f\"\\n{len(wordlist)} words after adding new words from past puzzle answers.\")"
   ]
  },
  {
   "cell_type": "code",
   "execution_count": null,
   "id": "a7236cde-0ea2-46f5-b09f-5b09db974edb",
   "metadata": {},
   "outputs": [],
   "source": [
    "# create the rows\n",
    "VERSION = 1\n",
    "rows = [(word, get_letter_set(word), VERSION) for word in sorted(wordlist)]"
   ]
  },
  {
   "cell_type": "code",
   "execution_count": null,
   "id": "56d985cd-f5ab-4075-a365-f4ae9835ec81",
   "metadata": {},
   "outputs": [],
   "source": [
    "temp_path = get_local_path(f\"{WORDLIST_PATH}/{WORDLIST_TEMP_CSV_FILENAME}\")\n",
    "with open(temp_path, \"w\") as f:\n",
    "    writer = csv.writer(f)\n",
    "    writer.writerow([\"word\", \"letter_set\", \"version\"])\n",
    "    writer.writerows(rows)\n",
    "\n",
    "print(f\"✅ Wrote {len(rows)} rows to {temp_path}\")"
   ]
  }
 ],
 "metadata": {
  "kernelspec": {
   "display_name": "Python 3 (ipykernel)",
   "language": "python",
   "name": "python3"
  },
  "language_info": {
   "codemirror_mode": {
    "name": "ipython",
    "version": 3
   },
   "file_extension": ".py",
   "mimetype": "text/x-python",
   "name": "python",
   "nbconvert_exporter": "python",
   "pygments_lexer": "ipython3",
   "version": "3.11.13"
  }
 },
 "nbformat": 4,
 "nbformat_minor": 5
}
