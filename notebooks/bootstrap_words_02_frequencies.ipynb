{
 "cells": [
  {
   "cell_type": "code",
   "execution_count": null,
   "id": "362a4c99-c9b1-45cb-9790-9e5b0e0497c9",
   "metadata": {},
   "outputs": [],
   "source": [
    "%run \"./00_setup\""
   ]
  },
  {
   "cell_type": "code",
   "execution_count": null,
   "id": "9d510db5-f22f-4ef1-8fd9-6ac1f540802a",
   "metadata": {},
   "outputs": [],
   "source": [
    "from src.bootstraputils import collect_frequencies_batched"
   ]
  },
  {
   "cell_type": "code",
   "execution_count": null,
   "id": "9df6bfa2-d37c-4fea-b6c1-b68b49bafb37",
   "metadata": {},
   "outputs": [],
   "source": [
    "# TODO: These should be pipeline parameters\n",
    "_SOURCE_DB_NAME = \"raw\"\n",
    "_SOURCE_TABLE_NAME = \"words\"\n",
    "_TARGET_DB_NAME = \"raw\"\n",
    "_TARGET_TABLE_NAME = \"word_frequencies\""
   ]
  },
  {
   "cell_type": "code",
   "execution_count": null,
   "id": "2754f644-ec47-4a5a-ba8b-52e9577e2188",
   "metadata": {},
   "outputs": [],
   "source": [
    "# Get wordlist from raw.words table\n",
    "raw_words_df = spark.sql(f\"SELECT word from {_SOURCE_DB_NAME}.{_SOURCE_TABLE_NAME}\")\n",
    "print(f\"Read {raw_words_df.count()} words from table {_SOURCE_DB_NAME}.{_SOURCE_TABLE_NAME}\")"
   ]
  },
  {
   "cell_type": "code",
   "execution_count": null,
   "id": "cd30a408-27d8-4073-a306-56b1be70ffca",
   "metadata": {},
   "outputs": [],
   "source": [
    "# Get list of words from the df; sorted for reproducability\n",
    "words_list = sorted([row.word for row in raw_words_df.select(\"word\").collect()])"
   ]
  },
  {
   "cell_type": "code",
   "execution_count": null,
   "id": "4755154b-e96e-4d7f-9afb-714484f1d294",
   "metadata": {},
   "outputs": [],
   "source": [
    "collect_frequencies_batched(spark, \n",
    "                           words_list,\n",
    "                           _TARGET_DB_NAME,\n",
    "                           _TARGET_TABLE_NAME,\n",
    "                           batch_size=100,\n",
    "                           resume_job=False)"
   ]
  }
 ],
 "metadata": {
  "kernelspec": {
   "display_name": "Python 3 (ipykernel)",
   "language": "python",
   "name": "python3"
  },
  "language_info": {
   "codemirror_mode": {
    "name": "ipython",
    "version": 3
   },
   "file_extension": ".py",
   "mimetype": "text/x-python",
   "name": "python",
   "nbconvert_exporter": "python",
   "pygments_lexer": "ipython3",
   "version": "3.11.13"
  }
 },
 "nbformat": 4,
 "nbformat_minor": 5
}
