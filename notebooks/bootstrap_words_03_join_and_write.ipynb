{
 "cells": [
  {
   "cell_type": "code",
   "execution_count": null,
   "id": "ad6334f3-2de7-4ad0-b8e2-2b374389ec3b",
   "metadata": {},
   "outputs": [],
   "source": [
    "%run \"./00_setup.ipynb\""
   ]
  },
  {
   "cell_type": "code",
   "execution_count": null,
   "id": "3a9e5c51-381f-4d42-b186-e7bafa36dddf",
   "metadata": {},
   "outputs": [],
   "source": [
    "from pyspark.sql.types import DateType\n",
    "import pyspark.sql.functions as F\n",
    "from src.sparkdbutils import create_db, create_unpartitioned_table"
   ]
  },
  {
   "cell_type": "code",
   "execution_count": null,
   "id": "9567a3e8-691c-4b2b-8116-37ca0ec8d481",
   "metadata": {},
   "outputs": [],
   "source": [
    "# TODO: These should be pipeline parameters\n",
    "_SOURCE_DB_NAME = \"raw\"\n",
    "_SOURCE_WORDS_TABLE_NAME = \"words\"\n",
    "_SOURCE_EMBEDDINGS_TABLE_NAME = \"word_embeddings\"\n",
    "_SOURCE_FREQUENCIES_TABLE_NAME = \"word_frequencies\"\n",
    "_TARGET_DB_NAME = \"bronze\"\n",
    "_TARGET_TABLE_NAME = \"words\""
   ]
  },
  {
   "cell_type": "code",
   "execution_count": null,
   "id": "7a0f69ac-bc25-4b95-858e-54ca5084891b",
   "metadata": {},
   "outputs": [],
   "source": [
    "# Read in tables to be merged\n",
    "words_df = spark.sql(f\"SELECT * FROM {_SOURCE_DB_NAME}.{_SOURCE_WORDS_TABLE_NAME}\")\n",
    "word_embeddings_df = spark.sql(f\"SELECT * FROM {_SOURCE_DB_NAME}.{_SOURCE_EMBEDDINGS_TABLE_NAME}\")\n",
    "word_frequencies_df = spark.sql(f\"SELECT * FROM {_SOURCE_DB_NAME}.{_SOURCE_FREQUENCIES_TABLE_NAME}\")"
   ]
  },
  {
   "cell_type": "code",
   "execution_count": null,
   "id": "8b441fcd-7ea2-4a6a-9fe5-c51056c2f2d0",
   "metadata": {},
   "outputs": [],
   "source": [
    "# Perform full outer joins to capture all possible words\n",
    "result_df = words_df.join(word_embeddings_df, on=\"word\", how=\"full_outer\") \\\n",
    "                    .join(word_frequencies_df, on=\"word\", how=\"full_outer\") \\\n",
    "                    .select(\"word\", \"letter_set\", \"date_added\", \"version\", \"frequency\", \"embedding\")"
   ]
  },
  {
   "cell_type": "code",
   "execution_count": null,
   "id": "72d6c1dc-5316-4472-9d16-1bd6007c3da1",
   "metadata": {},
   "outputs": [],
   "source": [
    "# Validation check\n",
    "# 1. Check for missing data patterns\n",
    "missing_analysis = result_df.select(\n",
    "    \"word\",\n",
    "    F.col(\"letter_set\").isNull().alias(\"missing_letter_set\"),\n",
    "    F.col(\"version\").isNull().alias(\"missing_version\"),\n",
    "    F.col(\"frequency\").isNull().alias(\"missing_frequency\"),\n",
    "    F.col(\"embedding\").isNull().alias(\"missing_embedding\")\n",
    ")\n",
    "\n",
    "# 2. Count missing data by source\n",
    "print(\"Missing data summary:\")\n",
    "missing_analysis.groupBy(\"missing_letter_set\", \n",
    "                         \"missing_version\",\n",
    "                         \"missing_frequency\",\n",
    "                         \"missing_embedding\") \\\n",
    "                 .count() \\\n",
    "                 .show()\n",
    "\n",
    "# 3. Find words that exist in some but not all DataFrames\n",
    "incomplete_words = result_df.filter(\n",
    "    (F.col(\"letter_set\").isNull()) | \n",
    "    (F.col(\"version\").isNull()) | \n",
    "    (F.col(\"frequency\").isNull()) | \n",
    "    (F.col(\"embedding\").isNull())\n",
    ")\n",
    "\n",
    "print(f\"Words with incomplete data: {incomplete_words.count()}\")\n",
    "if incomplete_words.count() > 0:\n",
    "    print(\"Examples of incomplete words:\")\n",
    "    incomplete_words.show(10)\n",
    "    raise Exception(\"Rows above have incomplete data.\")\n",
    "\n",
    "# 4. Verify your assumption about identical word sets\n",
    "print(\"Row count comparison:\")\n",
    "words_df_count = words_df.count()\n",
    "word_embeddings_df_count = word_embeddings_df.count()\n",
    "word_frequencies_df_count = word_frequencies_df.count()\n",
    "result_df_count = result_df.count()\n",
    "print(f\"words_df: {words_df_count}\")\n",
    "print(f\"word_embeddings_df: {word_embeddings_df_count}\")\n",
    "print(f\"word_frequencies_df: {word_frequencies_df_count}\")\n",
    "print(f\"Full outer join: {result_df_count}\")\n",
    "\n",
    "all_counts = set([words_df_count, \n",
    "                  word_embeddings_df_count,\n",
    "                  word_frequencies_df_count,\n",
    "                  result_df_count])\n",
    "\n",
    "if len(all_counts) > 1:\n",
    "    raise Exception(\"Row counts do not match.\")"
   ]
  },
  {
   "cell_type": "code",
   "execution_count": null,
   "id": "9939d308-f272-4ecb-a97d-ae3504e4d137",
   "metadata": {},
   "outputs": [],
   "source": [
    "create_db(spark, _TARGET_DB_NAME)"
   ]
  },
  {
   "cell_type": "code",
   "execution_count": null,
   "id": "a24bcbf6-1caa-4a68-b945-e043faf29754",
   "metadata": {},
   "outputs": [],
   "source": [
    "create_unpartitioned_table(spark, result_df, _TARGET_TABLE_NAME, _TARGET_DB_NAME)"
   ]
  }
 ],
 "metadata": {
  "kernelspec": {
   "display_name": "Python 3 (ipykernel)",
   "language": "python",
   "name": "python3"
  },
  "language_info": {
   "codemirror_mode": {
    "name": "ipython",
    "version": 3
   },
   "file_extension": ".py",
   "mimetype": "text/x-python",
   "name": "python",
   "nbconvert_exporter": "python",
   "pygments_lexer": "ipython3",
   "version": "3.11.13"
  }
 },
 "nbformat": 4,
 "nbformat_minor": 5
}
