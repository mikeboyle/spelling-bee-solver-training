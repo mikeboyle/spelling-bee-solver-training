{
 "cells": [
  {
   "cell_type": "markdown",
   "metadata": {
    "application/vnd.databricks.v1+cell": {
     "cellMetadata": {},
     "inputWidgets": {},
     "nuid": "e6f17dde-4ffb-48ee-95e3-937ac2296e75",
     "showTitle": false,
     "tableResultSettingsMap": {},
     "title": ""
    }
   },
   "source": [
    "# bootstrap_words_04_word_states\n",
    "\n",
    "Creates `silver.word_states` table with columns:\n",
    "- `word`\n",
    "- `letter_set`\n",
    "- `frequency`\n",
    "- `embedding`\n",
    "- `last_seen_on` (date type, nullable)\n",
    "- `label` (`0.0` or `1.0`, nullable)\n",
    "- `batch_id` (string, `\"bootstrap_{stage}_{num}\"` or `str(puzzle_date)`\n",
    "\n",
    "Steps in the process:\n",
    "- reduce the batch reader size to avoid vectorized reader using too much memory\n",
    "- TODO: Find out if this step should only happen locally or on Databricks too\n",
    "    - if local only, put this config change in `if not is_databricks_env():` block\n",
    "- read in `bronze.words` Delta table\n",
    "- rename `date_added` -> `last_seen_on` (should all be null for bootstrap)\n",
    "- label column = null (float type)\n",
    "- batch_id col = `\"bootstrap_words_01\"`\n",
    "- drop version column\n",
    "- save as Delta table `silver.word_states`"
   ]
  },
  {
   "cell_type": "code",
   "execution_count": 0,
   "metadata": {
    "application/vnd.databricks.v1+cell": {
     "cellMetadata": {},
     "inputWidgets": {},
     "nuid": "5b7f9f27-6fc0-4cd8-9c7b-d4def3a5c9bc",
     "showTitle": false,
     "tableResultSettingsMap": {},
     "title": ""
    }
   },
   "outputs": [],
   "source": [
    "%run './00_setup'"
   ]
  },
  {
   "cell_type": "code",
   "execution_count": 0,
   "metadata": {
    "application/vnd.databricks.v1+cell": {
     "cellMetadata": {},
     "inputWidgets": {},
     "nuid": "f76a63cb-c285-4901-91e2-6d85399e5c78",
     "showTitle": false,
     "tableResultSettingsMap": {},
     "title": ""
    }
   },
   "outputs": [],
   "source": [
    "import pyspark.sql.functions as F\n",
    "from pyspark.sql.types import *\n",
    "\n",
    "from src.envutils import is_databricks_env\n",
    "from src.sparkdbutils import create_db, create_repartitioned_table"
   ]
  },
  {
   "cell_type": "code",
   "execution_count": 0,
   "metadata": {
    "application/vnd.databricks.v1+cell": {
     "cellMetadata": {},
     "inputWidgets": {},
     "nuid": "61becbf7-0ba0-4a61-a58b-f74f4754c163",
     "showTitle": false,
     "tableResultSettingsMap": {},
     "title": ""
    }
   },
   "outputs": [],
   "source": [
    "# TODO: Should be pipeline parameters\n",
    "_SOURCE_DB_NAME = \"bronze\"\n",
    "_SOURCE_TABLE_NAME = \"words\"\n",
    "_TARGET_DB_NAME = \"silver\"\n",
    "_TARGET_TABLE_NAME = \"word_states\""
   ]
  },
  {
   "cell_type": "code",
   "execution_count": 0,
   "metadata": {
    "application/vnd.databricks.v1+cell": {
     "cellMetadata": {},
     "inputWidgets": {},
     "nuid": "ea12e00e-34a8-43d4-8a1f-ef07d707c9bf",
     "showTitle": false,
     "tableResultSettingsMap": {},
     "title": ""
    }
   },
   "outputs": [],
   "source": [
    "# Read in bronze.words table\n",
    "df = spark.sql(f\"SELECT * FROM {_SOURCE_DB_NAME}.{_SOURCE_TABLE_NAME}\")"
   ]
  },
  {
   "cell_type": "code",
   "execution_count": 0,
   "metadata": {
    "application/vnd.databricks.v1+cell": {
     "cellMetadata": {},
     "inputWidgets": {},
     "nuid": "80974071-54c7-48fe-97d5-738b40790694",
     "showTitle": false,
     "tableResultSettingsMap": {},
     "title": ""
    }
   },
   "outputs": [],
   "source": [
    "# Rename date_added -> last_seen_on\n",
    "df = df.withColumnRenamed(\"date_added\", \"last_seen_on\")"
   ]
  },
  {
   "cell_type": "code",
   "execution_count": 0,
   "metadata": {
    "application/vnd.databricks.v1+cell": {
     "cellMetadata": {},
     "inputWidgets": {},
     "nuid": "1adc2544-12b0-4603-a999-c905aeaabda5",
     "showTitle": false,
     "tableResultSettingsMap": {},
     "title": ""
    }
   },
   "outputs": [],
   "source": [
    "# Add label column (1.0, or 0.0, all null for now)\n",
    "df = df.withColumn(\"label\", F.lit(None).cast(\"float\")) "
   ]
  },
  {
   "cell_type": "code",
   "execution_count": 0,
   "metadata": {
    "application/vnd.databricks.v1+cell": {
     "cellMetadata": {},
     "inputWidgets": {},
     "nuid": "1be370c6-003e-4c14-94bb-9dca352f764b",
     "showTitle": false,
     "tableResultSettingsMap": {},
     "title": ""
    }
   },
   "outputs": [],
   "source": [
    "# Add batch id (\"bootstrap_words_1\" for this batch)\n",
    "df = df.withColumn(\"batch_id\", F.lit(\"bootstrap_words_1\"))"
   ]
  },
  {
   "cell_type": "code",
   "execution_count": 0,
   "metadata": {
    "application/vnd.databricks.v1+cell": {
     "cellMetadata": {},
     "inputWidgets": {},
     "nuid": "938fed9d-5c0a-4fc2-afc4-3e682062706d",
     "showTitle": false,
     "tableResultSettingsMap": {},
     "title": ""
    }
   },
   "outputs": [],
   "source": [
    "# Drop version column\n",
    "df = df.drop(\"version\")"
   ]
  },
  {
   "cell_type": "code",
   "execution_count": 0,
   "metadata": {
    "application/vnd.databricks.v1+cell": {
     "cellMetadata": {},
     "inputWidgets": {},
     "nuid": "e89e344d-410e-4691-baf5-66857c7a1ea7",
     "showTitle": false,
     "tableResultSettingsMap": {},
     "title": ""
    }
   },
   "outputs": [],
   "source": [
    "# Save to target db.table\n",
    "create_db(spark, _TARGET_DB_NAME)\n",
    "create_repartitioned_table(spark, df, _TARGET_TABLE_NAME, _TARGET_DB_NAME, 10)"
   ]
  }
 ],
 "metadata": {
  "application/vnd.databricks.v1+notebook": {
   "computePreferences": null,
   "dashboards": [],
   "environmentMetadata": null,
   "inputWidgetPreferences": null,
   "language": "python",
   "notebookMetadata": {
    "pythonIndentUnit": 4
   },
   "notebookName": "bootstrap_words_04_word_states",
   "widgets": {}
  },
  "kernelspec": {
   "display_name": "Python 3 (ipykernel)",
   "language": "python",
   "name": "python3"
  },
  "language_info": {
   "name": "python"
  }
 },
 "nbformat": 4,
 "nbformat_minor": 0
}
